{
  "nbformat": 4,
  "nbformat_minor": 0,
  "metadata": {
    "colab": {
      "provenance": [],
      "authorship_tag": "ABX9TyN9S0E+FDU/TUfBWAoHGI9V",
      "include_colab_link": true
    },
    "kernelspec": {
      "name": "python3",
      "display_name": "Python 3"
    },
    "language_info": {
      "name": "python"
    }
  },
  "cells": [
    {
      "cell_type": "markdown",
      "metadata": {
        "id": "view-in-github",
        "colab_type": "text"
      },
      "source": [
        "<a href=\"https://colab.research.google.com/github/pi-mishra/python_practice/blob/main/Python_practice.ipynb\" target=\"_parent\"><img src=\"https://colab.research.google.com/assets/colab-badge.svg\" alt=\"Open In Colab\"/></a>"
      ]
    },
    {
      "cell_type": "markdown",
      "source": [
        "•\tWrite a program to reverse an integer in Python."
      ],
      "metadata": {
        "id": "Z74NfXqbLlJK"
      }
    },
    {
      "cell_type": "code",
      "source": [
        "num = int(input('Enter num :'))\n",
        "reverse_num = 0\n",
        "\n",
        "while num > 0:\n",
        "  last_digit = num%10 \n",
        "  reverse_num = reverse_num * 10 + last_digit\n",
        "  num = num//10\n",
        "\n",
        "print(\"the reversed integer is \",reverse_num)"
      ],
      "metadata": {
        "colab": {
          "base_uri": "https://localhost:8080/"
        },
        "id": "c5DDQiOsPnio",
        "outputId": "6a06e8f4-8925-4ebb-e283-fac22cc6e92b"
      },
      "execution_count": 7,
      "outputs": [
        {
          "output_type": "stream",
          "name": "stdout",
          "text": [
            "Enter num :89\n",
            "the reversed integer is  98\n"
          ]
        }
      ]
    },
    {
      "cell_type": "markdown",
      "source": [
        "•\tWrite a program in Python to check whether an integer is Armstrong number or not."
      ],
      "metadata": {
        "id": "4N8DKGGMRVLr"
      }
    },
    {
      "cell_type": "code",
      "source": [
        "#An Armstrong number (also called a Narcissistic number) is a number that is equal to the sum of its own digits raised to the power of the number of digits."
      ],
      "metadata": {
        "id": "zAEGM1HdRGao"
      },
      "execution_count": 8,
      "outputs": []
    },
    {
      "cell_type": "code",
      "source": [
        "def is_armstrong(num):\n",
        "  num_str = str(num)\n",
        "  n = len(num_str)\n",
        "  sum = 0\n",
        "  for digit in num_str:\n",
        "    sum += int(digit)**n\n",
        "  if sum == num:\n",
        "    return True\n",
        "  else:\n",
        "    return False\n",
        "  "
      ],
      "metadata": {
        "id": "rROCIrYLSlHY"
      },
      "execution_count": 13,
      "outputs": []
    },
    {
      "cell_type": "code",
      "source": [
        "num = int(input())\n",
        "\n",
        "is_armstrong(num)"
      ],
      "metadata": {
        "colab": {
          "base_uri": "https://localhost:8080/"
        },
        "id": "gCtjplC4YhCb",
        "outputId": "e7139b14-5b38-4206-9432-7ad24280d555"
      },
      "execution_count": 16,
      "outputs": [
        {
          "name": "stdout",
          "output_type": "stream",
          "text": [
            "153\n"
          ]
        },
        {
          "output_type": "execute_result",
          "data": {
            "text/plain": [
              "True"
            ]
          },
          "metadata": {},
          "execution_count": 16
        }
      ]
    },
    {
      "cell_type": "code",
      "source": [],
      "metadata": {
        "id": "I8o7REIsZXP4"
      },
      "execution_count": null,
      "outputs": []
    }
  ]
}