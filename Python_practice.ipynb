{
  "nbformat": 4,
  "nbformat_minor": 0,
  "metadata": {
    "colab": {
      "provenance": [],
      "authorship_tag": "ABX9TyML8U7QVLcrxMTQW5fY0rPa",
      "include_colab_link": true
    },
    "kernelspec": {
      "name": "python3",
      "display_name": "Python 3"
    },
    "language_info": {
      "name": "python"
    }
  },
  "cells": [
    {
      "cell_type": "markdown",
      "metadata": {
        "id": "view-in-github",
        "colab_type": "text"
      },
      "source": [
        "<a href=\"https://colab.research.google.com/github/pi-mishra/python_practice/blob/main/Python_practice.ipynb\" target=\"_parent\"><img src=\"https://colab.research.google.com/assets/colab-badge.svg\" alt=\"Open In Colab\"/></a>"
      ]
    },
    {
      "cell_type": "markdown",
      "source": [
        "•\tWrite a program to reverse an integer in Python."
      ],
      "metadata": {
        "id": "Z74NfXqbLlJK"
      }
    },
    {
      "cell_type": "code",
      "source": [
        "num = int(input('Enter num :'))\n",
        "reverse_num = 0\n",
        "\n",
        "while num > 0:\n",
        "  last_digit = num%10 \n",
        "  reverse_num = reverse_num * 10 + last_digit\n",
        "  num = num//10\n",
        "\n",
        "print(\"the reversed integer is \",reverse_num)"
      ],
      "metadata": {
        "colab": {
          "base_uri": "https://localhost:8080/"
        },
        "id": "c5DDQiOsPnio",
        "outputId": "6a06e8f4-8925-4ebb-e283-fac22cc6e92b"
      },
      "execution_count": null,
      "outputs": [
        {
          "output_type": "stream",
          "name": "stdout",
          "text": [
            "Enter num :89\n",
            "the reversed integer is  98\n"
          ]
        }
      ]
    },
    {
      "cell_type": "markdown",
      "source": [
        "•\tWrite a program in Python to check whether an integer is Armstrong number or not."
      ],
      "metadata": {
        "id": "4N8DKGGMRVLr"
      }
    },
    {
      "cell_type": "code",
      "source": [
        "#An Armstrong number (also called a Narcissistic number) is a number that is equal to the sum of its own digits raised to the power of the number of digits."
      ],
      "metadata": {
        "id": "zAEGM1HdRGao"
      },
      "execution_count": null,
      "outputs": []
    },
    {
      "cell_type": "code",
      "source": [
        "def is_armstrong(num):\n",
        "  num_str = str(num)\n",
        "  n = len(num_str)\n",
        "  sum = 0\n",
        "  for digit in num_str:\n",
        "    sum += int(digit)**n\n",
        "  if sum == num:\n",
        "    return True\n",
        "  else:\n",
        "    return False\n",
        "  "
      ],
      "metadata": {
        "id": "rROCIrYLSlHY"
      },
      "execution_count": null,
      "outputs": []
    },
    {
      "cell_type": "code",
      "source": [
        "num = int(input())\n",
        "\n",
        "is_armstrong(num)"
      ],
      "metadata": {
        "colab": {
          "base_uri": "https://localhost:8080/"
        },
        "id": "gCtjplC4YhCb",
        "outputId": "e7139b14-5b38-4206-9432-7ad24280d555"
      },
      "execution_count": null,
      "outputs": [
        {
          "name": "stdout",
          "output_type": "stream",
          "text": [
            "153\n"
          ]
        },
        {
          "output_type": "execute_result",
          "data": {
            "text/plain": [
              "True"
            ]
          },
          "metadata": {},
          "execution_count": 16
        }
      ]
    },
    {
      "cell_type": "markdown",
      "source": [
        "* Write code to iterate over each letter in a word.\n",
        "\n",
        "\n",
        "\n"
      ],
      "metadata": {
        "id": "-LqkpTbUfNoK"
      }
    },
    {
      "cell_type": "code",
      "source": [
        "s = 'Rakesh Jhunjhunwala.'\n",
        "\n",
        "for i in s:\n",
        "  print(i)"
      ],
      "metadata": {
        "id": "I8o7REIsZXP4",
        "colab": {
          "base_uri": "https://localhost:8080/"
        },
        "outputId": "1233b841-180d-499e-cbad-cffa7c8075de"
      },
      "execution_count": null,
      "outputs": [
        {
          "output_type": "stream",
          "name": "stdout",
          "text": [
            "R\n",
            "a\n",
            "k\n",
            "e\n",
            "s\n",
            "h\n",
            " \n",
            "J\n",
            "h\n",
            "u\n",
            "n\n",
            "j\n",
            "h\n",
            "u\n",
            "n\n",
            "w\n",
            "a\n",
            "l\n",
            "a\n",
            ".\n"
          ]
        }
      ]
    },
    {
      "cell_type": "markdown",
      "source": [
        "* Find average of list of numbers"
      ],
      "metadata": {
        "id": "_y3e8104XCIn"
      }
    },
    {
      "cell_type": "code",
      "source": [
        "list_n = [5,45,76,46,23]\n",
        "\n",
        "sum = 0\n",
        "\n",
        "for i in list_n:\n",
        "  sum += i\n",
        "print(\"Sum = \", sum)\n",
        "print(\"Average = \", sum/len(list_n))"
      ],
      "metadata": {
        "colab": {
          "base_uri": "https://localhost:8080/"
        },
        "id": "bHzefp0tMN1o",
        "outputId": "c40f02ac-5246-4166-f25c-78e76ef84dde"
      },
      "execution_count": null,
      "outputs": [
        {
          "output_type": "stream",
          "name": "stdout",
          "text": [
            "Sum =  195\n",
            "Average =  39.0\n"
          ]
        }
      ]
    },
    {
      "cell_type": "markdown",
      "source": [
        "* print table of a given number"
      ],
      "metadata": {
        "id": "idfDN6mjcIOU"
      }
    },
    {
      "cell_type": "code",
      "source": [
        "def mutiplication_table(num):\n",
        "  for i in range(1,11):\n",
        "    print(f\"{num} x {i} = {num*i} \")\n",
        "\n",
        "mutiplication_table(8)\n"
      ],
      "metadata": {
        "id": "zlFgU2Y7Zsi_",
        "colab": {
          "base_uri": "https://localhost:8080/"
        },
        "outputId": "29c207a0-f43f-41ac-e788-a700c616beb5"
      },
      "execution_count": null,
      "outputs": [
        {
          "output_type": "stream",
          "name": "stdout",
          "text": [
            "8 x 1 = 8 \n",
            "8 x 2 = 16 \n",
            "8 x 3 = 24 \n",
            "8 x 4 = 32 \n",
            "8 x 5 = 40 \n",
            "8 x 6 = 48 \n",
            "8 x 7 = 56 \n",
            "8 x 8 = 64 \n",
            "8 x 9 = 72 \n",
            "8 x 10 = 80 \n"
          ]
        }
      ]
    },
    {
      "cell_type": "markdown",
      "source": [
        "\n",
        "\n",
        "* User will input (3ages).Find the oldest one\n",
        "\n"
      ],
      "metadata": {
        "id": "d16MT1HMBDg6"
      }
    },
    {
      "cell_type": "code",
      "source": [
        "a = input(int())\n",
        "b = input(int())\n",
        "c = input(int())\n",
        "\n",
        "if a >= b and a >=c:\n",
        "  print(a)\n",
        "elif b>=a and b>=c:\n",
        "  print(b)\n",
        "else:\n",
        "  print(c)"
      ],
      "metadata": {
        "colab": {
          "base_uri": "https://localhost:8080/"
        },
        "id": "0YHCmVwdw6XI",
        "outputId": "d4eb8e44-edff-4399-8560-3083d509141b"
      },
      "execution_count": null,
      "outputs": [
        {
          "output_type": "stream",
          "name": "stdout",
          "text": [
            "06\n",
            "08\n",
            "02\n",
            "8\n"
          ]
        }
      ]
    },
    {
      "cell_type": "markdown",
      "source": [
        "\n",
        "\n",
        "* Write a program that will convert celsius value to fahrenheit\n",
        "\n"
      ],
      "metadata": {
        "id": "bdMawjYYJk0Z"
      }
    },
    {
      "cell_type": "code",
      "source": [
        "def celsius_to_fahrenheit(celsius: float):\n",
        "    return (celsius * 9/5) + 32"
      ],
      "metadata": {
        "id": "TIhoTTqIHFiy"
      },
      "execution_count": null,
      "outputs": []
    },
    {
      "cell_type": "code",
      "source": [
        "print(\"fahrenheit = \",celsius_to_fahrenheit(5))"
      ],
      "metadata": {
        "colab": {
          "base_uri": "https://localhost:8080/"
        },
        "id": "s8ovSHT3KiNo",
        "outputId": "8f7a2556-3e33-4777-aeac-ec80b99bba49"
      },
      "execution_count": null,
      "outputs": [
        {
          "output_type": "stream",
          "name": "stdout",
          "text": [
            "fahrenheit =  41.0\n"
          ]
        }
      ]
    },
    {
      "cell_type": "markdown",
      "source": [
        "* User will input (2numbers).Write a program to swap the numbers"
      ],
      "metadata": {
        "id": "O5DAtQ1sNLz0"
      }
    },
    {
      "cell_type": "code",
      "source": [
        "num1 = float(input(\"Enter the first number: \"))\n",
        "num2 = float(input(\"Enter the second number: \"))\n",
        "\n",
        "# swapping the numbers using a temporary variable\n",
        "temp = num1\n",
        "num1 = num2\n",
        "num2 = temp\n",
        "\n",
        "print(f\"After swapping, the first number is {num1} and the second number is {num2}.\")\n"
      ],
      "metadata": {
        "colab": {
          "base_uri": "https://localhost:8080/"
        },
        "id": "moEVDNSpMxuj",
        "outputId": "dd268a5e-2f7a-47a4-c7ab-c3e0f0256a08"
      },
      "execution_count": null,
      "outputs": [
        {
          "output_type": "stream",
          "name": "stdout",
          "text": [
            "Enter the first number: 5\n",
            "Enter the second number: 8\n",
            "After swapping, the first number is 8.0 and the second number is 5.0.\n"
          ]
        }
      ]
    },
    {
      "cell_type": "markdown",
      "source": [
        "* Write a program that will give you the sum of 3 digits"
      ],
      "metadata": {
        "id": "PhH98JviTv7l"
      }
    },
    {
      "cell_type": "code",
      "source": [
        "def add(a:float,b:float,c:float):\n",
        "  return(a+b+c)"
      ],
      "metadata": {
        "id": "zPukpBWdTpt_"
      },
      "execution_count": null,
      "outputs": []
    },
    {
      "cell_type": "code",
      "source": [
        "add(5,5,9)"
      ],
      "metadata": {
        "colab": {
          "base_uri": "https://localhost:8080/"
        },
        "id": "nXqRDoejVasb",
        "outputId": "1a52f57a-e73e-4a60-8d96-46c14bd8eed6"
      },
      "execution_count": null,
      "outputs": [
        {
          "output_type": "execute_result",
          "data": {
            "text/plain": [
              "19"
            ]
          },
          "metadata": {},
          "execution_count": 14
        }
      ]
    },
    {
      "cell_type": "markdown",
      "source": [
        "* Write a program that will reverse a four digit number.Also it checks whether the reverse is true."
      ],
      "metadata": {
        "id": "wPjKGMh3XGOj"
      }
    },
    {
      "cell_type": "code",
      "source": [],
      "metadata": {
        "id": "FeLzwsVCVdss"
      },
      "execution_count": null,
      "outputs": []
    }
  ]
}